{
 "cells": [
  {
   "cell_type": "markdown",
   "id": "b9006128-4fd4-4a5f-ac22-e3d78a4b9180",
   "metadata": {},
   "source": [
    "### 노인보호구역 유형 전처리"
   ]
  },
  {
   "cell_type": "code",
   "execution_count": 78,
   "id": "a09aee14-a08e-427c-bc48-108095008024",
   "metadata": {},
   "outputs": [],
   "source": [
    "safety_zone_spot_nm_sql= \"\"\"\n",
    "SELECT \n",
    "    *\n",
    "FROM \n",
    "    `moonlit-vine-428804-p9.semi_project.senior_accident_info`\n",
    "\"\"\""
   ]
  },
  {
   "cell_type": "code",
   "execution_count": 79,
   "id": "08496ef6-b86c-4455-8af9-d27d68d93382",
   "metadata": {
    "scrolled": true
   },
   "outputs": [
    {
     "name": "stderr",
     "output_type": "stream",
     "text": [
      "/Library/Frameworks/Python.framework/Versions/3.12/lib/python3.12/site-packages/google/cloud/bigquery/table.py:1727: UserWarning: BigQuery Storage module not found, fetch data with the REST endpoint instead.\n",
      "  warnings.warn(\n"
     ]
    }
   ],
   "source": [
    "safety_zone_spot_nm_df = client.query(safety_zone_spot_nm_sql).to_dataframe()"
   ]
  },
  {
   "cell_type": "code",
   "execution_count": 81,
   "id": "f9516538-14f1-46a0-8559-94ec81b1c5d0",
   "metadata": {},
   "outputs": [],
   "source": [
    "safety_zone_spot_nm_df['sido_sgg_nm'] = safety_zone_spot_nm_df['sido_sgg_nm'].str.replace(r'\\d', '', regex=True)"
   ]
  },
  {
   "cell_type": "code",
   "execution_count": 82,
   "id": "f878017a-3cce-452a-9b54-257164f54e78",
   "metadata": {},
   "outputs": [],
   "source": [
    "def correct_location(sido_sgg_nm):\n",
    "    if sido_sgg_nm.startswith('서울 '):\n",
    "        return sido_sgg_nm.replace('서울 ', '서울특별시 ')\n",
    "        \n",
    "    if sido_sgg_nm.startswith('경기 '):\n",
    "        return sido_sgg_nm.replace('경기 ', '경기도 ')\n",
    "        \n",
    "    if sido_sgg_nm.startswith('대구 '):\n",
    "        return sido_sgg_nm.replace('대구 ', '대구광역시 ')\n",
    "        \n",
    "    if sido_sgg_nm.startswith('부산 '):\n",
    "        return sido_sgg_nm.replace('부산 ', '부산광역시 ')\n",
    "        \n",
    "    if sido_sgg_nm.startswith('경남 '):\n",
    "        return sido_sgg_nm.replace('경남 ', '경상남도 ')\n",
    "        \n",
    "    if sido_sgg_nm.startswith('경북 '):\n",
    "        return sido_sgg_nm.replace('경북 ', '경상북도 ')\n",
    "    if sido_sgg_nm.startswith('광주 '):\n",
    "        return sido_sgg_nm.replace('광주 ', '광주광역시 ')\n",
    "    if sido_sgg_nm.startswith('대전 '):\n",
    "        return sido_sgg_nm.replace('대전 ', '대전광역시 ')\n",
    "    if sido_sgg_nm.startswith('울산 '):\n",
    "        return sido_sgg_nm.replace('울산 ', '울산광역시 ')\n",
    "    if sido_sgg_nm.startswith('인천 '):\n",
    "        return sido_sgg_nm.replace('인천 ', '인천광역시 ')\n",
    "    if sido_sgg_nm.startswith('전남 '):\n",
    "        return sido_sgg_nm.replace('전남 ', '전라남도 ')\n",
    "    if sido_sgg_nm.startswith('전북 '):\n",
    "        return sido_sgg_nm.replace('전북 ', '전라북도 ')\n",
    "    if sido_sgg_nm.startswith('제주 '):\n",
    "        return sido_sgg_nm.replace('제주 ', '제주특별자치도 ')\n",
    "    if sido_sgg_nm.startswith('충남 '):\n",
    "        return sido_sgg_nm.replace('충남 ', '충청남도 ')\n",
    "    if sido_sgg_nm.startswith('충북 '):\n",
    "        return sido_sgg_nm.replace('충북 ', '충청북도 ')\n",
    "    if sido_sgg_nm.startswith('강원특별자치도 '):\n",
    "        return sido_sgg_nm.replace('강원특별자치도 ', '강원도 ')\n",
    "    return sido_sgg_nm"
   ]
  },
  {
   "cell_type": "code",
   "execution_count": 83,
   "id": "cdf7151c-ca1d-4468-982b-0ec097c8b339",
   "metadata": {},
   "outputs": [],
   "source": [
    "safety_zone_spot_nm_df['sido_sgg_nm'] = safety_zone_spot_nm_df['sido_sgg_nm'].apply(correct_location)"
   ]
  },
  {
   "cell_type": "code",
   "execution_count": null,
   "id": "5b519b8d-50cb-4d0b-86c9-27532ef3bbed",
   "metadata": {},
   "outputs": [],
   "source": []
  }
 ],
 "metadata": {
  "kernelspec": {
   "display_name": "Python 3 (ipykernel)",
   "language": "python",
   "name": "python3"
  },
  "language_info": {
   "codemirror_mode": {
    "name": "ipython",
    "version": 3
   },
   "file_extension": ".py",
   "mimetype": "text/x-python",
   "name": "python",
   "nbconvert_exporter": "python",
   "pygments_lexer": "ipython3",
   "version": "3.12.3"
  }
 },
 "nbformat": 4,
 "nbformat_minor": 5
}
